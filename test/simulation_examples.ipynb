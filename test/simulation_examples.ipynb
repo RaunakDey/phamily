{
 "cells": [
  {
   "cell_type": "markdown",
   "metadata": {},
   "source": [
    "## Some examples of virus microbe models -- from simple to advance compartmental network models\n",
    "\n",
    "Start with importing the packages and the modules.\n"
   ]
  },
  {
   "cell_type": "code",
   "execution_count": 8,
   "metadata": {},
   "outputs": [
    {
     "name": "stdout",
     "output_type": "stream",
     "text": [
      "[69999.99999996158, 69999.9999844305, 69999.99368091159, 69997.43541530741, 68974.39038724278, 10000.0]\n",
      "ecoli\n",
      "ecoli\n",
      "ecoli\n",
      "ecoli\n",
      "ecoli\n",
      "ecoli\n"
     ]
    },
    {
     "ename": "IndexError",
     "evalue": "index 6 is out of bounds for axis 0 with size 6",
     "output_type": "error",
     "traceback": [
      "\u001b[0;31m---------------------------------------------------------------------------\u001b[0m",
      "\u001b[0;31mIndexError\u001b[0m                                Traceback (most recent call last)",
      "Input \u001b[0;32mIn [8]\u001b[0m, in \u001b[0;36m<cell line: 36>\u001b[0;34m()\u001b[0m\n\u001b[1;32m     32\u001b[0m dt \u001b[38;5;241m=\u001b[39m time[\u001b[38;5;241m1\u001b[39m] \u001b[38;5;241m-\u001b[39m time[\u001b[38;5;241m0\u001b[39m]\n\u001b[1;32m     34\u001b[0m solution \u001b[38;5;241m=\u001b[39m solve_network_euler(time,initial_values)\n\u001b[0;32m---> 36\u001b[0m \u001b[43mplot_node_time_series_euler\u001b[49m\u001b[43m(\u001b[49m\u001b[43msolution\u001b[49m\u001b[43m,\u001b[49m\u001b[43mNode\u001b[49m\u001b[43m,\u001b[49m\u001b[43mtime\u001b[49m\u001b[43m,\u001b[49m\u001b[43msemilog\u001b[49m\u001b[38;5;241;43m=\u001b[39;49m\u001b[38;5;28;43;01mFalse\u001b[39;49;00m\u001b[43m)\u001b[49m\n\u001b[1;32m     38\u001b[0m \u001b[38;5;28;01mfor\u001b[39;00m node \u001b[38;5;129;01min\u001b[39;00m Node\u001b[38;5;241m.\u001b[39minstances:\n\u001b[1;32m     39\u001b[0m     \u001b[38;5;28;01mdel\u001b[39;00m node\n",
      "File \u001b[0;32m~/Downloads/phamily/test/./../phamily/utit_plots.py:11\u001b[0m, in \u001b[0;36mplot_node_time_series_euler\u001b[0;34m(solution, Node, time, semilog, singlewindow)\u001b[0m\n\u001b[1;32m      9\u001b[0m fig, ax \u001b[38;5;241m=\u001b[39m plt\u001b[38;5;241m.\u001b[39msubplots()\n\u001b[1;32m     10\u001b[0m \u001b[38;5;28;01mfor\u001b[39;00m count \u001b[38;5;129;01min\u001b[39;00m \u001b[38;5;28mrange\u001b[39m(number_of_nodes):\n\u001b[0;32m---> 11\u001b[0m     ax\u001b[38;5;241m.\u001b[39mplot(time,\u001b[43msolution\u001b[49m\u001b[43m[\u001b[49m\u001b[43mcount\u001b[49m\u001b[43m,\u001b[49m\u001b[43m:\u001b[49m\u001b[43m]\u001b[49m,label\u001b[38;5;241m=\u001b[39mnode_names[count])\n\u001b[1;32m     12\u001b[0m     \u001b[38;5;28;01mif\u001b[39;00m semilog \u001b[38;5;241m==\u001b[39m \u001b[38;5;28;01mTrue\u001b[39;00m:\n\u001b[1;32m     13\u001b[0m         plt\u001b[38;5;241m.\u001b[39myscale(\u001b[38;5;124m'\u001b[39m\u001b[38;5;124mlog\u001b[39m\u001b[38;5;124m'\u001b[39m)\n",
      "\u001b[0;31mIndexError\u001b[0m: index 6 is out of bounds for axis 0 with size 6"
     ]
    },
    {
     "data": {
      "image/png": "[encoded data removed]",
      "text/plain": [
       "<Figure size 640x480 with 1 Axes>"
      ]
     },
     "metadata": {},
     "output_type": "display_data"
    }
   ],
   "source": [
    "import logging\n",
    "import sys\n",
    "from scipy.integrate import odeint\n",
    "import numpy as np\n",
    "import matplotlib.pyplot as plt\n",
    "\n",
    "\n",
    "### This needs to be corrected.\n",
    "sys.path.append('./../phamily/')\n",
    "\n",
    "#More imports\n",
    "from utils_func import *\n",
    "from utit_plots import *\n",
    "from nodes import Node, Connect\n",
    "\n",
    "# Set up logging configuration  \n",
    "logging.basicConfig(level=logging.ERROR)\n",
    "\n",
    "\n",
    "\n",
    "ecoli = Node('susceptible', 'ecoli', value=1e4)\n",
    "connection2 = Connect(ecoli,parameters_mega_list={(ecoli.type,ecoli.type):{'carrying_cap' : 70000,'growth_rate' : 0.3}})\n",
    "connection2.connection_value = connection2.connections(name = 'logistic-growth')\n",
    "# Initial values\n",
    "initial_values = [node.value for node in Node.instances]\n",
    "print(initial_values)\n",
    "for node in Node.instances:\n",
    "    print(node.name)\n",
    "\n",
    "# Time points\n",
    "time = np.arange(0, 20, 0.01)\n",
    "dt = time[1] - time[0]\n",
    "\n",
    "solution = solve_network_euler(time,initial_values)\n",
    "\n",
    "plot_node_time_series_euler(solution,Node,time,semilog=False)\n",
    "\n",
    "for node in Node.instances:\n",
    "    del node"
   ]
  },
  {
   "cell_type": "code",
   "execution_count": 3,
   "metadata": {},
   "outputs": [],
   "source": [
    "\n",
    "# Clear all variables using the sys module\n",
    "globals().clear()\n",
    "variables_to_clear = ['Node', 'ecoli']\n",
    "\n",
    "for var_name in variables_to_clear:\n",
    "    if var_name in globals():\n",
    "        del globals()[var_name]\n",
    "        "
   ]
  },
  {
   "cell_type": "markdown",
   "metadata": {},
   "source": [
    "Define the nodes in the simulation.\n"
   ]
  },
  {
   "cell_type": "code",
   "execution_count": null,
   "metadata": {},
   "outputs": [],
   "source": [
    "import logging\n",
    "import sys\n",
    "from scipy.integrate import odeint\n",
    "import numpy as np\n",
    "import matplotlib.pyplot as plt\n",
    "\n",
    "\n",
    "### This needs to be corrected.\n",
    "sys.path.append('./../phamily/')\n",
    "\n",
    "#More imports\n",
    "from utils_func import *\n",
    "from utit_plots import *\n",
    "from nodes import Node, Connect\n",
    "\n",
    "# Set up logging configuration  \n",
    "logging.basicConfig(level=logging.ERROR)\n",
    "\n",
    "\n",
    "\n",
    "ecoli = Node('susceptible', 'ecoli', value=2e4)\n",
    "connection2 = Connect(ecoli,parameters_mega_list={(ecoli.type,ecoli.type):{'growth_rate':1, 'linear_model_mult_constant': 1}})\n",
    "connection2.connection_value = connection2.connections(name = 'type-I' )\n",
    "# Initial values\n",
    "initial_values = [node.value for node in Node.instances]\n",
    "print(initial_values)\n",
    "for node in Node.instances:\n",
    "    print(node.name)\n",
    "# Time points\n",
    "time = np.arange(0, 2, 0.01)\n",
    "dt = time[1] - time[0]\n",
    "\n",
    "solution = solve_network_euler(time,initial_values)\n",
    "\n",
    "plt.plot(time,solution[0,:])\n",
    "plt.show()\n"
   ]
  },
  {
   "cell_type": "markdown",
   "metadata": {},
   "source": [
    "Clear all the variables till now.\n"
   ]
  },
  {
   "cell_type": "code",
   "execution_count": null,
   "metadata": {},
   "outputs": [],
   "source": []
  },
  {
   "cell_type": "markdown",
   "metadata": {},
   "source": [
    "### Microbe logistic growth\n",
    "The growth term is $r(1-\\frac{a}{K})$"
   ]
  },
  {
   "cell_type": "code",
   "execution_count": null,
   "metadata": {},
   "outputs": [],
   "source": [
    "import logging\n",
    "import sys\n",
    "from scipy.integrate import odeint\n",
    "import numpy as np\n",
    "import matplotlib.pyplot as plt\n",
    "\n",
    "\n",
    "### This needs to be corrected.\n",
    "sys.path.append('./../phamily/')\n",
    "\n",
    "#More imports\n",
    "from utils_func import *\n",
    "from utit_plots import *\n",
    "from nodes import Node, Connect\n",
    "\n",
    "# Set up logging configuration  \n",
    "logging.basicConfig(level=logging.ERROR)\n",
    "\n",
    "\n",
    "\n",
    "ecoli = Node('susceptible', 'ecoli', value=1e4)\n",
    "connection2 = Connect(ecoli,parameters_mega_list={(ecoli.type,ecoli.type):{'carrying_cap' : 70000,'growth_rate' : 1.3}})\n",
    "connection2.connection_value = connection2.connections(name = 'logistic-growth')\n",
    "# Initial values\n",
    "initial_values = [node.value for node in Node.instances]\n",
    "\n",
    "# Time points\n",
    "time = np.arange(0, 2, 0.01)\n",
    "dt = time[1] - time[0]\n",
    "\n",
    "solution = solve_network_euler(time,initial_values)\n",
    "\n",
    "plot_node_time_series_euler(solution,Node,time,semilog=False)\n"
   ]
  },
  {
   "cell_type": "code",
   "execution_count": null,
   "metadata": {
    "scrolled": true
   },
   "outputs": [],
   "source": [
    "1+1+1"
   ]
  },
  {
   "cell_type": "code",
   "execution_count": null,
   "metadata": {},
   "outputs": [],
   "source": []
  },
  {
   "cell_type": "code",
   "execution_count": null,
   "metadata": {},
   "outputs": [],
   "source": []
  }
 ],
 "metadata": {
  "kernelspec": {
   "display_name": "Python 3 (ipykernel)",
   "language": "python",
   "name": "python3"
  },
  "language_info": {
   "codemirror_mode": {
    "name": "ipython",
    "version": 3
   },
   "file_extension": ".py",
   "mimetype": "text/x-python",
   "name": "python",
   "nbconvert_exporter": "python",
   "pygments_lexer": "ipython3",
   "version": "3.9.13"
  }
 },
 "nbformat": 4,
 "nbformat_minor": 2
}
